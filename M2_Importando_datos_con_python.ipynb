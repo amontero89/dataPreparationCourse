{
  "nbformat": 4,
  "nbformat_minor": 0,
  "metadata": {
    "colab": {
      "name": "M2_Importando_datos_con_python.ipynb",
      "provenance": [],
      "toc_visible": true
    },
    "kernelspec": {
      "name": "python3",
      "display_name": "Python 3"
    },
    "language_info": {
      "name": "python"
    }
  },
  "cells": [
    {
      "cell_type": "markdown",
      "metadata": {
        "id": "0UtDlZRQhSDf"
      },
      "source": [
        "![picture](https://drive.google.com/uc?export=view&id=1e3nj5xVsTXcfjDxSPipCyZPQBSEp4lp-)"
      ]
    },
    {
      "cell_type": "markdown",
      "metadata": {
        "id": "1SrwACV3YOa4"
      },
      "source": [
        "#<h1><font size = 6>Módulo 2: Cargando datos con Python</font></h1>"
      ]
    },
    {
      "cell_type": "markdown",
      "metadata": {
        "id": "dZbfrL_Qhg4q"
      },
      "source": [
        "<p><strong>Objetivo: </strong> El objetivo de este cuaderno es realizar la importanción de los datos con los cuales se trabajará en el curso. </p>"
      ]
    },
    {
      "cell_type": "markdown",
      "metadata": {
        "id": "EoBDglB0KGYG"
      },
      "source": [
        "## <strong>Importar librerías requeridas</strong>"
      ]
    },
    {
      "cell_type": "markdown",
      "metadata": {
        "id": "IF6T6uGvMhHD"
      },
      "source": [
        "Se va a utilizar la librería Pandas de Python para realizar la lectura de archivos. Se le asigna un alias <strong>pd</strong> para que sea más fácil utilizarla:"
      ]
    },
    {
      "cell_type": "code",
      "metadata": {
        "id": "fyw7GTbMhvCh"
      },
      "source": [
        "# Importar libreria requerida\n",
        "import pandas as pd"
      ],
      "execution_count": null,
      "outputs": []
    },
    {
      "cell_type": "markdown",
      "metadata": {
        "id": "xdpzAjF5NGGq"
      },
      "source": [
        "## <strong>Cargar los datos</strong>"
      ]
    },
    {
      "cell_type": "markdown",
      "metadata": {
        "id": "ojpdhCnlh5Qz"
      },
      "source": [
        "Existen varios formatos para un conjunto de datos, .csv, .json, .xlsx, etc. Los datos pueden ser almacenados en distintos lugares, ya sea localmente o en línea.<b>\n",
        "En estas sección aprenderá a cargar un conjunto de datos en su cuaderno de python.</b>\n",
        "En nuestro caso el conjunto de datos Adult es de una fuente en línea en formato CSV (valores separados por coma). El siguiente código carga los datos desde la dirección URL y los convierte a un tipo de datos de python llamado dataframe (similar a una tabla)."
      ]
    },
    {
      "cell_type": "code",
      "metadata": {
        "id": "ylyppeZihMv-"
      },
      "source": [
        "# Leer datos desde archivo CSV\n",
        "csv_path = \"http://archive.ics.uci.edu/ml/machine-learning-databases/adult/adult.data\"\n",
        "df = pd.read_csv(csv_path,sep=\",\",header= None)\n",
        "df.head()"
      ],
      "execution_count": null,
      "outputs": []
    },
    {
      "cell_type": "markdown",
      "metadata": {
        "id": "n8KGCjZcKlqa"
      },
      "source": [
        "## <strong>Nombres de los atributos</strong>"
      ]
    },
    {
      "cell_type": "markdown",
      "metadata": {
        "id": "Wjhz-ol7NfYq"
      },
      "source": [
        "Observe el conjunto de datos; Pandas automaticamente establece la cabecera en un entero a partir de 0.  \n",
        "Para describir mejor los datos se puede agregar una cabecera, esta información esta disponible en: <a href=\"https://archive.ics.uci.edu/ml/machine-learning-databases/adult/ \" target=\"_blank\">https://archive.ics.uci.edu/ml/machine-learning-databases/adult/ </a>\n",
        "</p>\n",
        "<p>\n",
        "De este modo se pueden agregar las cabeceras manualmente.    \n",
        "Primero se crea una lista <b>headers</b> que incluya todos los nombres de columna en orden.\n",
        "Despues se utiliza la función <code>dataframe.columns = headers</code> para reemplazar las cabeceras por la lista que se ha creado.\n",
        "</p>"
      ]
    },
    {
      "cell_type": "code",
      "metadata": {
        "id": "hEgWtUT3Kki3"
      },
      "source": [
        "# crear la lista headers \n",
        "headers = [\"age\",\"workclass\",\"fnlwgt\",\"education\",\"education-num\", \"marital-status\",\"occupation\",\n",
        "         \"relationship\",\"race\",\"sex\", \"capital-gain\",\"capital-loss\",\"hours-per-week\",\"native-country\",\"makes\"]\n",
        "df.columns = headers\n",
        "df.head(100)"
      ],
      "execution_count": null,
      "outputs": []
    },
    {
      "cell_type": "markdown",
      "metadata": {
        "id": "AwF16wvSOeQA"
      },
      "source": [
        "## <strong>Tipos de datos</strong>"
      ]
    },
    {
      "cell_type": "markdown",
      "metadata": {
        "id": "kDh1zS-LOoBm"
      },
      "source": [
        "<p>\n",
        "Los datos se encuentran en una variedad de tipos.<br>\n",
        "Los tipos principales almacenados en dataframes de Pandas son <b>object</b>, <b>float</b>, <b>int</b>, <b>bool</b> y <b>datetime64</b>. Para aprender mejor acerca de cada atributo es mejor para nosotros saber el tipo de dato de cada columna.\n",
        "</p>"
      ]
    },
    {
      "cell_type": "code",
      "metadata": {
        "id": "it7TK46iNoA-"
      },
      "source": [
        "#La función dtypes genera una tabla con el tipo de dato de cada columna\n",
        "df.dtypes"
      ],
      "execution_count": null,
      "outputs": []
    },
    {
      "cell_type": "markdown",
      "metadata": {
        "id": "BxX1WjdfPVcs"
      },
      "source": [
        "## <strong>Exportar los datos</strong>"
      ]
    },
    {
      "cell_type": "markdown",
      "metadata": {
        "id": "R36mll83PBzl"
      },
      "source": [
        "<p>\n",
        "De la misma forma, Pandas permite guardar el conjunto en formato CSV con el método <code>dataframe.to_csv()</code>, puede añadir la ruta al archivo y el nombre con comillas dentro de los corchetes.\n",
        "</p>\n",
        "Se puede leer y guardar con otros formatos y usar funciones similares a <code>pd.read_csv()</code> y <code>df.to_csv()</code> para otros formatos de datos, las funciones se muestran en la siguiente tabla:\n",
        "\n",
        "| Data Formate |        Read       |            Save |\n",
        "| ------------ | :---------------: | --------------: |\n",
        "| csv          |  `pd.read_csv()`  |   `df.to_csv()` |\n",
        "| json         |  `pd.read_json()` |  `df.to_json()` |\n",
        "| excel        | `pd.read_excel()` | `df.to_excel()` |\n",
        "| hdf          |  `pd.read_hdf()`  |   `df.to_hdf()` |\n",
        "| sql          |  `pd.read_sql()`  |   `df.to_sql()` |\n",
        "| ...          |        ...        |             ... |"
      ]
    },
    {
      "cell_type": "markdown",
      "metadata": {
        "id": "WmzOf-_1P0R-"
      },
      "source": [
        "## <strong>Links de ayuda interesantes</strong>"
      ]
    },
    {
      "cell_type": "markdown",
      "metadata": {
        "id": "_8DdrbMxPx1t"
      },
      "source": [
        "<ul>\n",
        "    <li>Graficos Seaborn: https://seaborn.pydata.org/examples/index.html</li>\n",
        "    <li>Plotting with categorical data: https://seaborn.pydata.org/tutorial/categorical.html</li>\n",
        "    <li>Visualizing statistical relationships: https://seaborn.pydata.org/tutorial/relational.html </li>\n",
        "    <li>Funciones Generales y Ayuda Pandas: https://pandas.pydata.org/pandas-docs/stable/reference/general_functions.html </li>\n",
        "    <li>How to Perform Exploratory Data Analysis with Seaborn: https://towardsdatascience.com/how-to-perform-exploratory-data-analysis-with-seaborn-97e3413e841d</li> \n",
        "<ul>"
      ]
    }
  ]
}